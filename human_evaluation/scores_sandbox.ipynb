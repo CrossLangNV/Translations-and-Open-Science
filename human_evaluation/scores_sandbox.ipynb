{
 "cells": [
  {
   "cell_type": "code",
   "execution_count": null,
   "outputs": [],
   "source": [
    "\n",
    "import os\n",
    "\n",
    "import pandas as pd\n",
    "\n",
    "from automatic_evaluation.scores import (\n",
    "    sentence_bleu_scores,\n",
    "    TER_sentence,\n",
    "    ChrF_sentence,\n",
    ")\n",
    "\n",
    "# Change dir to the root of the project\n",
    "try:  # When working in Docker\n",
    "    os.chdir(\"/lab\")\n",
    "except FileNotFoundError:\n",
    "    current_dir = os.path.abspath(\"\")\n",
    "\n",
    "    # Check if we have to move to the parent directory\n",
    "    if os.path.basename(current_dir) == \"scripts\":\n",
    "        parent_dir = os.path.dirname(current_dir)\n",
    "        os.chdir(parent_dir)\n",
    "\n",
    "print(os.getcwd())"
   ],
   "metadata": {
    "collapsed": false
   }
  },
  {
   "cell_type": "code",
   "execution_count": null,
   "outputs": [],
   "source": [
    "# filename = \"DATA/Preselectie-D2.xlsx\"\n",
    "filename = \"DATA/Preselectie-D3.xlsx\"\n",
    "\n",
    "df = pd.read_excel(filename)\n",
    "\n",
    "src = df[\"English\"].values\n",
    "ref = df[\"Human Translation\"].values\n",
    "\n",
    "deepl = df[\"DeepL\"].values\n",
    "modernmt = df[\"ModernMT\"].values\n",
    "opennmt = df[\"OpenNMT\"].values\n",
    "\n",
    "# Convert NaN to empty string\n",
    "def convert_nan(x):\n",
    "    if isinstance(x, str):\n",
    "        return x\n",
    "    else:\n",
    "        return \"\"\n",
    "\n",
    "deepl = [convert_nan(x) for x in deepl]\n",
    "modernmt = [convert_nan(x) for x in modernmt]\n",
    "opennmt = [convert_nan(x) for x in opennmt]\n",
    "ref = [convert_nan(x) for x in ref]\n"
   ],
   "metadata": {
    "collapsed": false
   }
  },
  {
   "cell_type": "code",
   "execution_count": null,
   "outputs": [],
   "source": [
    "deepl"
   ],
   "metadata": {
    "collapsed": false
   }
  },
  {
   "cell_type": "code",
   "execution_count": null,
   "outputs": [],
   "source": [
    "metrics = {\n",
    "    \"BLEU\": sentence_bleu_scores,\n",
    "    \"TER\": TER_sentence,\n",
    "    \"ChrF\": ChrF_sentence,\n",
    "}\n",
    "\n",
    "for metric_name, metric in metrics.items():\n",
    "    print(metric_name)\n",
    "    # print(\"DeepL\", metric(ref, deepl))\n",
    "\n",
    "    df[f\"DeepL {metric_name}\"] = metric(ref, deepl)\n",
    "    df[f\"ModernMT {metric_name}\"] = metric(ref, modernmt)\n",
    "    df[f\"OpenNMT {metric_name}\"] = metric(ref, opennmt)\n",
    "\n",
    "\n",
    "\n",
    "filename_out = \"-scores\".join(os.path.splitext(filename))\n",
    "df.to_excel(filename_out, index=False)\n"
   ],
   "metadata": {
    "collapsed": false
   }
  },
  {
   "cell_type": "code",
   "execution_count": null,
   "outputs": [],
   "source": [],
   "metadata": {
    "collapsed": false
   }
  }
 ],
 "metadata": {
  "kernelspec": {
   "display_name": "Python 3",
   "language": "python",
   "name": "python3"
  },
  "language_info": {
   "codemirror_mode": {
    "name": "ipython",
    "version": 2
   },
   "file_extension": ".py",
   "mimetype": "text/x-python",
   "name": "python",
   "nbconvert_exporter": "python",
   "pygments_lexer": "ipython2",
   "version": "2.7.6"
  }
 },
 "nbformat": 4,
 "nbformat_minor": 0
}
